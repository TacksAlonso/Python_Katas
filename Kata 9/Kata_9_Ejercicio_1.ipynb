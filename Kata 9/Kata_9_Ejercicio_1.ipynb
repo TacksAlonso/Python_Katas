{
 "cells": [
  {
   "cell_type": "code",
   "execution_count": 14,
   "metadata": {},
   "outputs": [
    {
     "name": "stdout",
     "output_type": "stream",
     "text": [
      "Reporte de comustible:\n",
      "    ------------------------\n",
      "    Promedio de combustible:293.0\n",
      "    Contenido tanque A:432\n",
      "    Contenido tanque B:324\n",
      "    Contenido tanque C:123\n",
      "    \n",
      "Reporte de comustible:\n",
      "    ------------------------\n",
      "    Promedio de combustible:86.66666666666667\n",
      "    Contenido tanque A:117\n",
      "    Contenido tanque B:54\n",
      "    Contenido tanque C:89\n",
      "    \n"
     ]
    }
   ],
   "source": [
    "# Función para leer 3 tanques de combustible y muestre el promedio\n",
    "def reporte_combustible(tanqueA, tanqueB, tanqueC):\n",
    "    print(f\"\"\"Reporte de comustible:\n",
    "    ------------------------\n",
    "    Promedio de combustible:{(tanqueA+tanqueB+tanqueC)/3}\n",
    "    Contenido tanque A:{tanqueA}\n",
    "    Contenido tanque B:{tanqueB}\n",
    "    Contenido tanque C:{tanqueC}\n",
    "    \"\"\")\n",
    "# Llamamos a la función que genera el reporte print(funcion(tanque1, tanque2, tanque3))\n",
    "reporte_combustible(432,324,123)\n",
    "# Función promedio \n",
    "def promedio(valores):\n",
    "    total=sum(valores)\n",
    "    elementos=len(valores)\n",
    "    return total/elementos\n",
    "# Escribe tu nueva función\n",
    "def reporte_combustible(tanqueA, tanqueB, tanqueC):\n",
    "    print(f\"\"\"Reporte de comustible:\n",
    "    ------------------------\n",
    "    Promedio de combustible:{promedio([tanqueA,tanqueB,tanqueC])}\n",
    "    Contenido tanque A:{tanqueA}\n",
    "    Contenido tanque B:{tanqueB}\n",
    "    Contenido tanque C:{tanqueC}\n",
    "    \"\"\")\n",
    "\n",
    "reporte_combustible(117,54,89)\n"
   ]
  }
 ],
 "metadata": {
  "interpreter": {
   "hash": "8ddb1b5d9ff42db984edc5714db444982abe949d8860587f91e81577dd6c79dd"
  },
  "kernelspec": {
   "display_name": "Python 3.10.2 64-bit",
   "language": "python",
   "name": "python3"
  },
  "language_info": {
   "codemirror_mode": {
    "name": "ipython",
    "version": 3
   },
   "file_extension": ".py",
   "mimetype": "text/x-python",
   "name": "python",
   "nbconvert_exporter": "python",
   "pygments_lexer": "ipython3",
   "version": "3.10.2"
  },
  "orig_nbformat": 4
 },
 "nbformat": 4,
 "nbformat_minor": 2
}
