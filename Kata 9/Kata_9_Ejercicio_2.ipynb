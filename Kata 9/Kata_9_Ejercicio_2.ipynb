{
 "cells": [
  {
   "cell_type": "code",
   "execution_count": 20,
   "metadata": {},
   "outputs": [
    {
     "name": "stdout",
     "output_type": "stream",
     "text": [
      "\n",
      "    Reporte de mision:\n",
      "    Tiempo:12:58 horas\n",
      "    Destino:Luna\n",
      "    Tanque: 60%\n",
      "    \n",
      "\n",
      "    Reporte de mision:\n",
      "    Tiempo:129\n",
      "    Destino:Luna\n",
      "    Tanque total: 500000\n",
      "    \n",
      "\n",
      "    Reporte de mision:\n",
      "    Tiempo:100\n",
      "    Destino:Marte\n",
      "    Tanques:\n",
      "    Tanque oxigeno: 300000 \n",
      "    Tanque interno: 200000 \n",
      "    Tanque auxiliar: 214324 \n",
      "    \n"
     ]
    }
   ],
   "source": [
    "# Función con un informe preciso de la misión. Considera hora de prelanzamiento, tiempo de vuelo, destino, tanque externo y tanque interno\n",
    "def reporte(hora_prelanzamiento, tiempo_vuelo, destino, tanque_oxigeno, tanque_interno):\n",
    "    print(f\"\"\"\n",
    "    Reporte de mision:\n",
    "    Tiempo:{hora_prelanzamiento}:{tiempo_vuelo}\n",
    "    Destino:{destino}\n",
    "    Tanque: {tanque_oxigeno+tanque_interno}%\n",
    "    \"\"\")\n",
    "\n",
    "reporte(\"12\",\"58 horas\", \"Luna\", 15, 45)\n",
    "\n",
    "# Escribe tu nueva función de reporte considerando lo anterior\n",
    "def reporte(destino, *tiempo, **tanques):\n",
    "    print(f\"\"\"\n",
    "    Reporte de mision:\n",
    "    Tiempo:{sum(tiempo)}\n",
    "    Destino:{destino}\n",
    "    Tanque total: {sum(tanques.values())}\n",
    "    \"\"\")\n",
    "reporte(\"Luna\", 32, 54, 43, oxigeno=300000, interno=200000)\n",
    "\n",
    "# Escribe tu nueva función\n",
    "def reporte(destino, *tiempo, **tanques):\n",
    "    report=f\"\"\"\n",
    "    Reporte de mision:\n",
    "    Tiempo:{sum(tiempo)}\n",
    "    Destino:{destino}\n",
    "    Tanques:\n",
    "    \"\"\"\n",
    "    for tanque, capacidad in tanques.items():\n",
    "        report+=f\"Tanque {tanque}: {capacidad} \\n    \"\n",
    "    return report\n",
    "\n",
    "print(reporte(\"Marte\", 43, 12, 45, oxigeno=300000, interno=200000, auxiliar=214324))\n"
   ]
  }
 ],
 "metadata": {
  "interpreter": {
   "hash": "8ddb1b5d9ff42db984edc5714db444982abe949d8860587f91e81577dd6c79dd"
  },
  "kernelspec": {
   "display_name": "Python 3.10.2 64-bit",
   "language": "python",
   "name": "python3"
  },
  "language_info": {
   "codemirror_mode": {
    "name": "ipython",
    "version": 3
   },
   "file_extension": ".py",
   "mimetype": "text/x-python",
   "name": "python",
   "nbconvert_exporter": "python",
   "pygments_lexer": "ipython3",
   "version": "3.10.2"
  },
  "orig_nbformat": 4
 },
 "nbformat": 4,
 "nbformat_minor": 2
}
