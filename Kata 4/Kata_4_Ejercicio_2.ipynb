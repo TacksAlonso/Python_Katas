{
 "cells": [
  {
   "cell_type": "code",
   "execution_count": 27,
   "metadata": {},
   "outputs": [
    {
     "name": "stdout",
     "output_type": "stream",
     "text": [
      "\n",
      "Gravedad De La Moon\n",
      "\n",
      "Planeta:Earth\n",
      "Gravedad de la Moon es de 1.6199999999999999 m/s2\n",
      "\n",
      "\n",
      "\n",
      "Gravedad De La Moon\n",
      "\n",
      "Planeta:Earth\n",
      "Gravedad de la Moon es de 1.6199999999999999 m/s2\n",
      "\n",
      "\n",
      "\n",
      "Gravedad de Ganímedes\n",
      "Nombre del planeta: Marte \n",
      "Gravedad de Ganímedes es de 1.4300000000000002 m/s2\n",
      "\n"
     ]
    }
   ],
   "source": [
    "# Datos con los que vas a trabajar\n",
    "name = \"Moon\"\n",
    "gravity = 0.00162 # in kms\n",
    "planet = \"Earth\"\n",
    "\n",
    "# Creamos el título\n",
    "titulo='gravedad de la {0}'.format(name, planet).title()\n",
    "#print(titulo)\n",
    "\n",
    "# Creamos la plantilla\n",
    "texto = f\"\"\"\n",
    "Planeta:{planet}\n",
    "Gravedad de la {name} es de {gravity * 1000} m/s2\n",
    "\"\"\"\n",
    "#print(texto)\n",
    "\n",
    "# Unión de ambas cadenas\n",
    "cuerpo=f\"\"\"\n",
    "{titulo}\n",
    "{texto}\n",
    "\"\"\"\n",
    "print(cuerpo)\n",
    "\n",
    "planet = 'Marte '\n",
    "gravity  = 0.00143\n",
    "name = 'Ganímedes'\n",
    "\n",
    "# Comprueba la plantilla\n",
    "# print(nombre_plantilla)\n",
    "print(cuerpo)\n",
    "\n",
    "# Nueva plantilla\n",
    "nuevo_texto = \"\"\"\n",
    "Gravedad de {nombre}\n",
    "Nombre del planeta: {planeta}\n",
    "Gravedad de {nombre} es de {gravedad} m/s2\n",
    "\"\"\"\n",
    "print(nuevo_texto.format(nombre=name, planeta=planet, gravedad=gravity*1000))\n"
   ]
  }
 ],
 "metadata": {
  "interpreter": {
   "hash": "8ddb1b5d9ff42db984edc5714db444982abe949d8860587f91e81577dd6c79dd"
  },
  "kernelspec": {
   "display_name": "Python 3.10.2 64-bit",
   "language": "python",
   "name": "python3"
  },
  "language_info": {
   "name": "python",
   "version": "3.10.2"
  },
  "orig_nbformat": 4
 },
 "nbformat": 4,
 "nbformat_minor": 2
}
