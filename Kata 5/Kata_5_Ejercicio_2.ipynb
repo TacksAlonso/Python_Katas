{
 "cells": [
  {
   "cell_type": "code",
   "execution_count": 1,
   "metadata": {},
   "outputs": [
    {
     "name": "stdout",
     "output_type": "stream",
     "text": [
      "La distancia es de 91700000 km\n",
      "La distancia es de 56945700.0 Millas\n"
     ]
    }
   ],
   "source": [
    "# Almacenar las entradas del usuario\n",
    "#Pista: variable = input(\"¿Cuál es tu nombre?\")\n",
    "\n",
    "planeta1=input(\"¿Ingresa la distancia del planeta al sol para el primer planeta?\")\n",
    "planeta2=input(\"¿Ingresa la distancia del planeta al sol para el segundo planeta?\")\n",
    "\n",
    "# Convierte las cadenas de ambos planetas a números enteros\n",
    "planeta1=int(planeta1)\n",
    "planeta2=int(planeta2)\n",
    "\n",
    "# Realizar el cálculo y determinar el valor absoluto\n",
    "\n",
    "distancia=abs(planeta2-planeta1)\n",
    "\n",
    "# Convertir de KM a Millas\n",
    "print(\"La distancia es de {0} km\".format(distancia))\n",
    "\n",
    "distancia*=0.621\n",
    "print(\"La distancia es de {0} Millas\".format(distancia))\n"
   ]
  }
 ],
 "metadata": {
  "interpreter": {
   "hash": "8ddb1b5d9ff42db984edc5714db444982abe949d8860587f91e81577dd6c79dd"
  },
  "kernelspec": {
   "display_name": "Python 3.10.2 64-bit",
   "language": "python",
   "name": "python3"
  },
  "language_info": {
   "codemirror_mode": {
    "name": "ipython",
    "version": 3
   },
   "file_extension": ".py",
   "mimetype": "text/x-python",
   "name": "python",
   "nbconvert_exporter": "python",
   "pygments_lexer": "ipython3",
   "version": "3.10.2"
  },
  "orig_nbformat": 4
 },
 "nbformat": 4,
 "nbformat_minor": 2
}
