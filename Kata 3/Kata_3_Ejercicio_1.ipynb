{
 "cells": [
  {
   "cell_type": "code",
   "execution_count": 2,
   "metadata": {},
   "outputs": [
    {
     "name": "stdout",
     "output_type": "stream",
     "text": [
      "Peligro! Peligro! Asteroide ingresando a una velocidad de 49 km/s\n"
     ]
    }
   ],
   "source": [
    "# Añadir el código necesario para crear una variable que guarde la velocidad del asteroide.\n",
    "velocidad_asteroide=49\n",
    "# Escribe una expresión de prueba para calcular si necesita una advertencia.\n",
    "if velocidad_asteroide>=25:\n",
    "    # Agregue las instrucciones que se ejecutarán si la expresión de prueba es true o false.\n",
    "    print(\"Peligro! Peligro! Asteroide ingresando a una velocidad de {0} km/s\".format(velocidad_asteroide))\n",
    "else:\n",
    "    print(\"Sin novedades... :D\")"
   ]
  }
 ],
 "metadata": {
  "interpreter": {
   "hash": "8ddb1b5d9ff42db984edc5714db444982abe949d8860587f91e81577dd6c79dd"
  },
  "kernelspec": {
   "display_name": "Python 3.10.2 64-bit",
   "language": "python",
   "name": "python3"
  },
  "language_info": {
   "codemirror_mode": {
    "name": "ipython",
    "version": 3
   },
   "file_extension": ".py",
   "mimetype": "text/x-python",
   "name": "python",
   "nbconvert_exporter": "python",
   "pygments_lexer": "ipython3",
   "version": "3.10.2"
  },
  "orig_nbformat": 4
 },
 "nbformat": 4,
 "nbformat_minor": 2
}
