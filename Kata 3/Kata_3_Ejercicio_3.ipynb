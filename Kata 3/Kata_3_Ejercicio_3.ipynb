{
 "cells": [
  {
   "cell_type": "code",
   "execution_count": 2,
   "metadata": {},
   "outputs": [
    {
     "name": "stdout",
     "output_type": "stream",
     "text": [
      "Peligro!!! Peligro!!! la dimensión y velocidad del asteroide causaran un impacto catastrófico\n"
     ]
    }
   ],
   "source": [
    "# Agrega el código para crear nuevas variables para la velocidad y el tamaño del asteroide\n",
    "# Para probar el código, prueba con varias velocidades y tamaños\n",
    "# Escribe varias expresiones de prueba o combinaciones de expresiones de prueba para determinar qué mensaje se debe enviar a Tierra.\n",
    "\n",
    "dimension_asteroide=52\n",
    "velocidad_asteroide=56\n",
    "\n",
    "if dimension_asteroide>25 and velocidad_asteroide>=20:\n",
    "    print(\"Peligro!!! Peligro!!! la dimensión y velocidad del asteroide causaran un impacto catastrófico\")\n",
    "elif dimension_asteroide>25:\n",
    "    print(\"Peligro! Peligro! Asteroide ingresando a una velocidad de {0} km/s\".format(velocidad_asteroide))\n",
    "elif velocidad_asteroide>=20:\n",
    "    print(\"Asteroide superando los 20 km/s al ingresar a la atmósfera, ¿lograste verlo?\")\n",
    "else:\n",
    "    print(\"...\")\n"
   ]
  }
 ],
 "metadata": {
  "interpreter": {
   "hash": "8ddb1b5d9ff42db984edc5714db444982abe949d8860587f91e81577dd6c79dd"
  },
  "kernelspec": {
   "display_name": "Python 3.10.2 64-bit",
   "language": "python",
   "name": "python3"
  },
  "language_info": {
   "codemirror_mode": {
    "name": "ipython",
    "version": 3
   },
   "file_extension": ".py",
   "mimetype": "text/x-python",
   "name": "python",
   "nbconvert_exporter": "python",
   "pygments_lexer": "ipython3",
   "version": "3.10.2"
  },
  "orig_nbformat": 4
 },
 "nbformat": 4,
 "nbformat_minor": 2
}
