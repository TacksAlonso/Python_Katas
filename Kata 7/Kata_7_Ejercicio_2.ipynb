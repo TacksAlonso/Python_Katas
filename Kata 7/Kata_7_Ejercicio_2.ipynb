{
 "cells": [
  {
   "cell_type": "code",
   "execution_count": 9,
   "metadata": {},
   "outputs": [
    {
     "name": "stdout",
     "output_type": "stream",
     "text": [
      "No hay planetas que mostrar\n"
     ]
    }
   ],
   "source": [
    "# Declara dos variables\n",
    "new_planet=''\n",
    "planets=[]\n",
    "\n",
    "# Escribe el ciclo while solicitado\n",
    "while new_planet.lower() != \"done\":\n",
    "    if new_planet:\n",
    "        planets.append(new_planet)\n",
    "    new_planet=input(\"Ingresa el nombre de un planeta\")\n",
    "\n",
    "# Escribe tu ciclo for para iterar en una lista de planetas\n",
    "\n",
    "if len(planets)>0:\n",
    "    print(\"Los planetas de la lista son:\")\n",
    "    for planet in planets:\n",
    "        print(planet)\n",
    "else:\n",
    "    print(\"No hay planetas que mostrar\")"
   ]
  }
 ],
 "metadata": {
  "interpreter": {
   "hash": "8ddb1b5d9ff42db984edc5714db444982abe949d8860587f91e81577dd6c79dd"
  },
  "kernelspec": {
   "display_name": "Python 3.10.2 64-bit",
   "language": "python",
   "name": "python3"
  },
  "language_info": {
   "codemirror_mode": {
    "name": "ipython",
    "version": 3
   },
   "file_extension": ".py",
   "mimetype": "text/x-python",
   "name": "python",
   "nbconvert_exporter": "python",
   "pygments_lexer": "ipython3",
   "version": "3.10.2"
  },
  "orig_nbformat": 4
 },
 "nbformat": 4,
 "nbformat_minor": 2
}
