{
 "cells": [
  {
   "cell_type": "code",
   "execution_count": 2,
   "metadata": {},
   "outputs": [
    {
     "name": "stdout",
     "output_type": "stream",
     "text": [
      "Los planetas más cercanos al sol antes de Venus son ['Mercury']\n",
      "Los planetas más alejados al sol despues de Venus son ['Earth', 'Mars', 'Jupiter', 'Saturn', 'Neptune']\n"
     ]
    }
   ],
   "source": [
    "# Lista de planetas\n",
    "planets = ['Mercury', 'Venus', 'Earth', 'Mars', 'Jupiter', 'Saturn', 'Neptune']\n",
    "# Solicitamos el nombre de un planeta *Pista:  input()*\n",
    "planet=input(\"Ingresa el nombre de un planeta (La primera letra en mayusculas por favor c: )\")\n",
    "# Busca el planeta en la lista\n",
    "planet_find=planets.index(planet)\n",
    "# Muestra los planetas más cercanos al sol\n",
    "print(\"Los planetas más cercanos al sol antes de {0} son {1}\".format(planet, planets[0:planet_find]))\n",
    "# Muestra los planetas más lejanos al sol\n",
    "print(\"Los planetas más alejados al sol despues de {0} son {1}\".format(planet, planets[planet_find+1:]))"
   ]
  }
 ],
 "metadata": {
  "interpreter": {
   "hash": "8ddb1b5d9ff42db984edc5714db444982abe949d8860587f91e81577dd6c79dd"
  },
  "kernelspec": {
   "display_name": "Python 3.10.2 64-bit",
   "language": "python",
   "name": "python3"
  },
  "language_info": {
   "codemirror_mode": {
    "name": "ipython",
    "version": 3
   },
   "file_extension": ".py",
   "mimetype": "text/x-python",
   "name": "python",
   "nbconvert_exporter": "python",
   "pygments_lexer": "ipython3",
   "version": "3.10.2"
  },
  "orig_nbformat": 4
 },
 "nbformat": 4,
 "nbformat_minor": 2
}
